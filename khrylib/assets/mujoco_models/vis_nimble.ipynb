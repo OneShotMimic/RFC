{
 "cells": [
  {
   "cell_type": "code",
   "execution_count": 1,
   "metadata": {},
   "outputs": [
    {
     "name": "stdout",
     "output_type": "stream",
     "text": [
      "GUIWebsocketServer will start serving a WebSocket server on ws://localhost:8070\n",
      "Web GUI serving on http://localhost:8080\n"
     ]
    }
   ],
   "source": [
    "import nimblephysics as nimble\n",
    "import time\n",
    "import torch\n",
    "world=nimble.simulation.World()\n",
    "world.setTimeStep(0.001)\n",
    "skel = world.loadSkeleton(\"/home/ericcsr/srchen/oneshot/RFC/khrylib/assets/mujoco_models/rfc_model/humanoid_root.urdf\")\n",
    "floor = world.loadSkeleton(\"/home/ericcsr/srchen/oneshot/RFC/khrylib/assets/mujoco_models/rfc_model/humanoid_floor.urdf\")\n",
    "state = world.getState()\n",
    "state[5] += 1\n",
    "world.setState(state)\n",
    "gui = nimble.NimbleGUI(world)\n",
    "gui.serve(8080)"
   ]
  },
  {
   "cell_type": "code",
   "execution_count": 2,
   "metadata": {},
   "outputs": [],
   "source": [
    "for i in range(4000):\n",
    "    world.step()\n",
    "    gui.displayState(torch.from_numpy(world.getState()))\n",
    "    time.sleep(0.001)"
   ]
  },
  {
   "cell_type": "code",
   "execution_count": null,
   "metadata": {},
   "outputs": [],
   "source": []
  }
 ],
 "metadata": {
  "kernelspec": {
   "display_name": "Python 3.8.13 ('shac')",
   "language": "python",
   "name": "python3"
  },
  "language_info": {
   "codemirror_mode": {
    "name": "ipython",
    "version": 3
   },
   "file_extension": ".py",
   "mimetype": "text/x-python",
   "name": "python",
   "nbconvert_exporter": "python",
   "pygments_lexer": "ipython3",
   "version": "3.8.13"
  },
  "orig_nbformat": 4,
  "vscode": {
   "interpreter": {
    "hash": "bd8b7ce6261980bed5ca8362763c7bd8492a1cf52c7ee6febdde03ac07be7586"
   }
  }
 },
 "nbformat": 4,
 "nbformat_minor": 2
}
