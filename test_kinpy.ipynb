{
 "cells": [
  {
   "cell_type": "code",
   "execution_count": 1,
   "metadata": {},
   "outputs": [
    {
     "name": "stderr",
     "output_type": "stream",
     "text": [
      "pybullet build time: May 20 2022 19:44:17\n"
     ]
    },
    {
     "name": "stdout",
     "output_type": "stream",
     "text": [
      "startThreads creating 1 threads.\n",
      "starting thread 0\n",
      "started thread 0 \n",
      "argc=2\n",
      "argv[0] = --unused\n",
      "argv[1] = --start_demo_name=Physics Server\n",
      "ExampleBrowserThreadFunc started\n",
      "X11 functions dynamically loaded using dlopen/dlsym OK!\n",
      "X11 functions dynamically loaded using dlopen/dlsym OK!\n",
      "Creating context\n",
      "Created GL 3.3 context\n",
      "Direct GLX rendering context obtained\n",
      "Making context current\n",
      "GL_VENDOR=NVIDIA Corporation\n",
      "GL_RENDERER=NVIDIA GeForce GTX 1650/PCIe/SSE2\n",
      "GL_VERSION=3.3.0 NVIDIA 510.85.02\n",
      "GL_SHADING_LANGUAGE_VERSION=3.30 NVIDIA via Cg compiler\n",
      "pthread_getconcurrency()=0\n",
      "Version = 3.3.0 NVIDIA 510.85.02\n",
      "Vendor = NVIDIA Corporation\n",
      "Renderer = NVIDIA GeForce GTX 1650/PCIe/SSE2\n",
      "b3Printf: Selected demo: Physics Server\n",
      "startThreads creating 1 threads.\n",
      "starting thread 0\n",
      "started thread 0 \n",
      "MotionThreadFunc thread started\n"
     ]
    },
    {
     "data": {
      "text/plain": [
       "0"
      ]
     },
     "execution_count": 1,
     "metadata": {},
     "output_type": "execute_result"
    },
    {
     "name": "stdout",
     "output_type": "stream",
     "text": [
      "ven = NVIDIA Corporation\n",
      "ven = NVIDIA Corporation\n"
     ]
    }
   ],
   "source": [
    "import pybullet as p\n",
    "p.connect(p.GUI)"
   ]
  },
  {
   "cell_type": "code",
   "execution_count": 3,
   "metadata": {},
   "outputs": [
    {
     "name": "stdout",
     "output_type": "stream",
     "text": [
      "b3Printf: b3Warning[examples/SharedMemory/PhysicsServerCommandProcessor.cpp,3584]:\n",
      "\n",
      "b3Printf: /home/ericcsr/oneshot/RFC/khrylib/assets/mujoco_models/rfc_humanoid.xml:49: unhandled root element 'light'\n",
      "b3Printf: b3Warning[examples/SharedMemory/PhysicsServerCommandProcessor.cpp,3584]:\n",
      "\n",
      "b3Printf: /home/ericcsr/oneshot/RFC/khrylib/assets/mujoco_models/rfc_humanoid.xml:51: unknown field 'joint'\n",
      "b3Printf: b3Warning[examples/SharedMemory/PhysicsServerCommandProcessor.cpp,3584]:\n",
      "\n",
      "b3Printf: /home/ericcsr/oneshot/RFC/khrylib/assets/mujoco_models/rfc_humanoid.xml:54: joint without axis attribute\n",
      "b3Printf: b3Warning[examples/SharedMemory/PhysicsServerCommandProcessor.cpp,3584]:\n",
      "\n",
      "b3Printf: /home/ericcsr/oneshot/RFC/khrylib/assets/mujoco_models/rfc_humanoid.xml:73: joint without axis attribute\n",
      "b3Printf: b3Warning[examples/SharedMemory/PhysicsServerCommandProcessor.cpp,3584]:\n",
      "\n",
      "b3Printf: /home/ericcsr/oneshot/RFC/khrylib/assets/mujoco_models/rfc_humanoid.xml:92: joint without axis attribute\n",
      "b3Printf: b3Warning[examples/SharedMemory/PhysicsServerCommandProcessor.cpp,3584]:\n",
      "\n",
      "b3Printf: /home/ericcsr/oneshot/RFC/khrylib/assets/mujoco_models/rfc_humanoid.xml:99: joint without axis attribute\n",
      "b3Printf: b3Warning[examples/SharedMemory/PhysicsServerCommandProcessor.cpp,3584]:\n",
      "\n",
      "b3Printf: /home/ericcsr/oneshot/RFC/khrylib/assets/mujoco_models/rfc_humanoid.xml:107: joint without axis attribute\n",
      "b3Printf: b3Warning[examples/SharedMemory/PhysicsServerCommandProcessor.cpp,3584]:\n",
      "\n",
      "b3Printf: /home/ericcsr/oneshot/RFC/khrylib/assets/mujoco_models/rfc_humanoid.xml:109: unknown field 'camera'\n",
      "b3Printf: b3Warning[examples/SharedMemory/PhysicsServerCommandProcessor.cpp,3584]:\n",
      "\n",
      "b3Printf: /home/ericcsr/oneshot/RFC/khrylib/assets/mujoco_models/rfc_humanoid.xml:125: joint without axis attribute\n",
      "b3Printf: b3Warning[examples/SharedMemory/PhysicsServerCommandProcessor.cpp,3584]:\n",
      "\n",
      "b3Printf: /home/ericcsr/oneshot/RFC/khrylib/assets/mujoco_models/rfc_humanoid.xml:144: joint without axis attribute\n"
     ]
    }
   ],
   "source": [
    "robot = p.loadMJCF(\"/home/ericcsr/oneshot/RFC/khrylib/assets/mujoco_models/rfc_humanoid.xml\")"
   ]
  },
  {
   "cell_type": "code",
   "execution_count": 4,
   "metadata": {},
   "outputs": [
    {
     "ename": "",
     "evalue": "",
     "output_type": "error",
     "traceback": [
      "\u001b[1;31mThe Kernel crashed while executing code in the the current cell or a previous cell. Please review the code in the cell(s) to identify a possible cause of the failure. Click <a href='https://aka.ms/vscodeJupyterKernelCrash'>here</a> for more info. View Jupyter <a href='command:jupyter.viewOutput'>log</a> for further details."
     ]
    }
   ],
   "source": [
    "p.resetBasePositionAndOrientation(1, [0, 0, 1.5], [0,0,0,1])"
   ]
  },
  {
   "cell_type": "code",
   "execution_count": 4,
   "metadata": {},
   "outputs": [],
   "source": [
    "import time\n",
    "for i in range(10000):\n",
    "    p.stepSimulation()\n",
    "    time.sleep(1./240)"
   ]
  },
  {
   "cell_type": "code",
   "execution_count": null,
   "metadata": {},
   "outputs": [],
   "source": []
  }
 ],
 "metadata": {
  "kernelspec": {
   "display_name": "Python 3.8.13 ('shac2')",
   "language": "python",
   "name": "python3"
  },
  "language_info": {
   "codemirror_mode": {
    "name": "ipython",
    "version": 3
   },
   "file_extension": ".py",
   "mimetype": "text/x-python",
   "name": "python",
   "nbconvert_exporter": "python",
   "pygments_lexer": "ipython3",
   "version": "3.8.13"
  },
  "orig_nbformat": 4,
  "vscode": {
   "interpreter": {
    "hash": "97ad4c31634d9cc9ba7bd554a498b9de08ded14d830009f7ac1777d02ea64435"
   }
  }
 },
 "nbformat": 4,
 "nbformat_minor": 2
}
